{
 "cells": [
  {
   "cell_type": "code",
   "execution_count": 2,
   "metadata": {
    "executionInfo": {
     "elapsed": 3780,
     "status": "ok",
     "timestamp": 1735114047399,
     "user": {
      "displayName": "Phan Van Kiet",
      "userId": "02808864336506690139"
     },
     "user_tz": -420
    },
    "id": "smOKZ2q2mIEb"
   },
   "outputs": [],
   "source": [
    "# Cài đặt các thư viện cần thiết\n",
    "import time\n",
    "import numpy as np\n",
    "import pandas as pd\n",
    "import seaborn as sns\n",
    "import matplotlib.pyplot as plt\n",
    "import warnings\n",
    "warnings.filterwarnings(\"ignore\") # Loại bỏ các cảnh báo\n",
    "from sklearn.svm import SVC\n",
    "from sklearn.neighbors import KNeighborsClassifier\n",
    "from sklearn.preprocessing import LabelEncoder, MinMaxScaler\n",
    "from sklearn.model_selection import train_test_split, GridSearchCV, KFold\n",
    "from sklearn.metrics import accuracy_score, precision_score, recall_score, f1_score, classification_report, ConfusionMatrixDisplay,  confusion_matrix"
   ]
  },
  {
   "cell_type": "code",
   "execution_count": 3,
   "metadata": {
    "executionInfo": {
     "elapsed": 344,
     "status": "ok",
     "timestamp": 1735116179443,
     "user": {
      "displayName": "Phan Van Kiet",
      "userId": "02808864336506690139"
     },
     "user_tz": -420
    },
    "id": "wcHcS0VnmTmh"
   },
   "outputs": [],
   "source": [
    "# Khai báo các giá trị tham số\n",
    "DATA_FILE = 'data_tx2.csv'\n",
    "RANDOM_STATE = 42      # Dùng trong chia dữ liệu\n",
    "TEST_SIZE    = 0.25    # Dùng trong chia dữ liệu\n",
    "K_FOLD       = 3      # Dùng trong đánh giá kiểm định chéo\n",
    "CV           = 5       # Dùng trong tìm kiếm tham số tốt nhất"
   ]
  },
  {
   "cell_type": "code",
   "execution_count": 4,
   "metadata": {
    "executionInfo": {
     "elapsed": 534,
     "status": "ok",
     "timestamp": 1735116181705,
     "user": {
      "displayName": "Phan Van Kiet",
      "userId": "02808864336506690139"
     },
     "user_tz": -420
    },
    "id": "-4iDNWmPmVwW"
   },
   "outputs": [],
   "source": [
    "# Hàm đọc file\n",
    "def readFile(dataFile):\n",
    "  try:\n",
    "    df = pd.read_csv(dataFile)\n",
    "    return df\n",
    "  except FileNotFoundError:\n",
    "    print(f\"Tệp {dataFile} không tồn tại.\")\n",
    "    return None"
   ]
  },
  {
   "cell_type": "code",
   "execution_count": 5,
   "metadata": {
    "colab": {
     "base_uri": "https://localhost:8080/"
    },
    "executionInfo": {
     "elapsed": 519,
     "status": "ok",
     "timestamp": 1735116184419,
     "user": {
      "displayName": "Phan Van Kiet",
      "userId": "02808864336506690139"
     },
     "user_tz": -420
    },
    "id": "RSD1D6pHnbQc",
    "outputId": "dae99109-2362-4c5c-9818-373025337ab7"
   },
   "outputs": [
    {
     "name": "stdout",
     "output_type": "stream",
     "text": [
      "Dữ liệu ban đầu (10 dòng đầu):\n",
      "     A     B    C     D    E     F    G CLASS\n",
      "0  9.0  15.0  3.7   2.9  1.2   5.9  4.0     P\n",
      "1  3.5   4.5  3.1   2.5  2.8  10.0  6.7     N\n",
      "2  4.1   4.9  2.1   3.7  2.5  10.0  3.3     P\n",
      "3  4.6   3.5  2.5   2.2  2.7  11.0  7.2     P\n",
      "4  5.6   1.6  4.1   3.9  4.7   5.6  2.9     N\n",
      "5  5.7   3.9  2.6   5.8  2.3   4.6  3.6     P\n",
      "6  8.9   2.5  2.4   3.5  1.6   9.5  2.8     P\n",
      "7  2.9   3.2  2.9   3.9  3.9  10.6  4.0     P\n",
      "8  2.2   2.2  3.9  13.4  2.2  11.3  2.9     N\n",
      "9  6.3   4.1  2.4  12.1  1.8   2.7  4.0     P\n"
     ]
    }
   ],
   "source": [
    "# In dữ liệu của file\n",
    "df = readFile(DATA_FILE)\n",
    "if df is not None:\n",
    "  print(\"Dữ liệu ban đầu:\")\n",
    "  print(df.head(10).to_string())"
   ]
  },
  {
   "cell_type": "code",
   "execution_count": 6,
   "metadata": {
    "colab": {
     "base_uri": "https://localhost:8080/"
    },
    "executionInfo": {
     "elapsed": 325,
     "status": "ok",
     "timestamp": 1735116186731,
     "user": {
      "displayName": "Phan Van Kiet",
      "userId": "02808864336506690139"
     },
     "user_tz": -420
    },
    "id": "Za6TUsTzniNZ",
    "outputId": "6ad91848-52f9-415f-d713-f5a528549cd6"
   },
   "outputs": [
    {
     "name": "stdout",
     "output_type": "stream",
     "text": [
      "Dữ liệu đầy đủ\n"
     ]
    }
   ],
   "source": [
    "# Kiểm tra thông tin dữ liệu\n",
    "\n",
    "# Kiểm tra dữ liệu có bị khuyết thiếu không\n",
    "check_nan = df.isna().any().any()\n",
    "if check_nan == True:\n",
    "    print(\"Dữ liệu bị thiếu\")\n",
    "else:\n",
    "    print(\"Dữ liệu đầy đủ\")"
   ]
  },
  {
   "cell_type": "code",
   "execution_count": 7,
   "metadata": {
    "colab": {
     "base_uri": "https://localhost:8080/",
     "height": 518
    },
    "executionInfo": {
     "elapsed": 457,
     "status": "ok",
     "timestamp": 1735116189109,
     "user": {
      "displayName": "Phan Van Kiet",
      "userId": "02808864336506690139"
     },
     "user_tz": -420
    },
    "id": "0rFoIfYLnlqf",
    "outputId": "6075ed38-d0a5-47c7-ee1b-f9dc937e00a0"
   },
   "outputs": [
    {
     "name": "stdout",
     "output_type": "stream",
     "text": [
      "CLASS\n",
      "P    8\n",
      "N    4\n",
      "Name: count, dtype: int64\n"
     ]
    },
    {
     "data": {
      "image/png": "[encoded data removed]",
      "text/plain": [
       "<Figure size 640x480 with 1 Axes>"
      ]
     },
     "metadata": {},
     "output_type": "display_data"
    }
   ],
   "source": [
    "# Kiểm tra tính cân bằng của nhãn\n",
    "print(df['CLASS'].value_counts())\n",
    "sns.countplot(data = df, x = df['CLASS'], palette = 'Set1');"
   ]
  },
  {
   "cell_type": "code",
   "execution_count": 8,
   "metadata": {
    "colab": {
     "base_uri": "https://localhost:8080/"
    },
    "executionInfo": {
     "elapsed": 319,
     "status": "ok",
     "timestamp": 1735116192299,
     "user": {
      "displayName": "Phan Van Kiet",
      "userId": "02808864336506690139"
     },
     "user_tz": -420
    },
    "id": "j0ka6bIXnoDf",
    "outputId": "5590dccb-c875-4922-93f5-9c9013eecd60"
   },
   "outputs": [
    {
     "name": "stdout",
     "output_type": "stream",
     "text": [
      "Dữ liệu bị trùng:\n",
      "0\n"
     ]
    }
   ],
   "source": [
    "# Kiểm tra data bị trùng và xóa nếu có dữ liệu trùng\n",
    "duplicated_df = df.duplicated().sum()\n",
    "print(\"Dữ liệu bị trùng:\")\n",
    "print(duplicated_df)\n",
    "\n",
    "# Xóa dữ liệu trùng\n",
    "df = df.drop_duplicates()"
   ]
  },
  {
   "cell_type": "code",
   "execution_count": 9,
   "metadata": {
    "executionInfo": {
     "elapsed": 349,
     "status": "ok",
     "timestamp": 1735116194766,
     "user": {
      "displayName": "Phan Van Kiet",
      "userId": "02808864336506690139"
     },
     "user_tz": -420
    },
    "id": "4MnqKltrntMK"
   },
   "outputs": [],
   "source": [
    "# Tiền xử lý dữ liệu\n",
    "\n",
    "# Chuyển hóa thuộc tính ký tự sang số\n",
    "scaler = LabelEncoder()\n",
    "df['CLASS'] = scaler.fit_transform(df['CLASS'])\n",
    "\n",
    "# Lấy dữ liệu chuẩn hóa từ dataframe\n",
    "X = df.iloc[ : , :-1]\n",
    "Y = df.iloc[ : , -1]\n",
    "\n",
    "# Chuẩn hóa dữ liệu\n",
    "scaler = MinMaxScaler()\n",
    "X = scaler.fit_transform(X)"
   ]
  },
  {
   "cell_type": "code",
   "execution_count": 10,
   "metadata": {
    "colab": {
     "base_uri": "https://localhost:8080/"
    },
    "executionInfo": {
     "elapsed": 320,
     "status": "ok",
     "timestamp": 1735116196600,
     "user": {
      "displayName": "Phan Van Kiet",
      "userId": "02808864336506690139"
     },
     "user_tz": -420
    },
    "id": "jUHb2p7TpOLJ",
    "outputId": "842b6c90-67de-440c-ece2-82076f36687d"
   },
   "outputs": [
    {
     "name": "stdout",
     "output_type": "stream",
     "text": [
      "X_train:  (9, 7)\n",
      "X_test:  (3, 7)\n",
      "Y_train:  (9,)\n",
      "Y_test:  (3,)\n"
     ]
    }
   ],
   "source": [
    "# Chuẩn bị dữ liệu huấn luyện\n",
    "\n",
    "X_train, X_test, Y_train, Y_test = train_test_split(X, Y,\n",
    "                                                    test_size    = TEST_SIZE,\n",
    "                                                    random_state = RANDOM_STATE)\n",
    "\n",
    "# Kiểm tra chiều dữ liệu\n",
    "print(\"X_train: \", X_train.shape)\n",
    "print(\"X_test: \", X_test.shape)\n",
    "print(\"Y_train: \", Y_train.shape)\n",
    "print(\"Y_test: \", Y_test.shape)"
   ]
  },
  {
   "cell_type": "code",
   "execution_count": 11,
   "metadata": {
    "executionInfo": {
     "elapsed": 339,
     "status": "ok",
     "timestamp": 1735117768403,
     "user": {
      "displayName": "Phan Van Kiet",
      "userId": "02808864336506690139"
     },
     "user_tz": -420
    },
    "id": "Ubf26x1f73hM"
   },
   "outputs": [],
   "source": [
    "# Khởi tạo hàm kiểm định chéo\n",
    "kf = KFold(n_splits=K_FOLD, shuffle=False)\n",
    "df_y = np.array(Y)\n",
    "i = 1\n",
    "X_train_np = []\n",
    "X_test_np = []\n",
    "Y_train_np = []\n",
    "Y_test_np = []\n",
    "for train_index, test_index in kf.split(X):\n",
    "      X_train, X_test = X[train_index], X[test_index]\n",
    "      Y_train, Y_test = Y[train_index], Y[test_index]\n",
    "      X_train_np.append(X_train)\n",
    "      X_test_np.append(X_test)\n",
    "      Y_train_np.append(Y_train)\n",
    "      Y_test_np.append(Y_test)\n",
    "\n"
   ]
  },
  {
   "cell_type": "code",
   "execution_count": 12,
   "metadata": {
    "colab": {
     "base_uri": "https://localhost:8080/"
    },
    "executionInfo": {
     "elapsed": 521,
     "status": "ok",
     "timestamp": 1735119313521,
     "user": {
      "displayName": "Phan Van Kiet",
      "userId": "02808864336506690139"
     },
     "user_tz": -420
    },
    "id": "vC4rxX_w_TdA",
    "outputId": "88955080-392f-4d5d-9ed8-bf83f53ee4f3"
   },
   "outputs": [
    {
     "name": "stdout",
     "output_type": "stream",
     "text": [
      "Thời gian huấn luyện : 0.0019998550415039062\n",
      "FOLD: 0\n",
      "accuracy       :  0.75\n",
      "precision      :  0.75\n",
      "recall         :   1.0\n",
      "f1score        : 0.8571\n",
      "time           : 0.002\n",
      "######################################\n",
      "Thời gian huấn luyện : 0.00106048583984375\n",
      "FOLD: 1\n",
      "accuracy       :   0.5\n",
      "precision      : 0.6667\n",
      "recall         : 0.6667\n",
      "f1score        : 0.6667\n",
      "time           : 0.00106\n",
      "######################################\n",
      "Thời gian huấn luyện : 0.0\n",
      "FOLD: 2\n",
      "accuracy       :   0.5\n",
      "precision      :   0.5\n",
      "recall         :   0.5\n",
      "f1score        :   0.5\n",
      "time           :   0.0\n",
      "######################################\n",
      "mean_accuracy  : 0.5833 \n",
      "mean_precision : 0.6389 \n",
      "mean_recall    : 0.7222 \n",
      "mean_f1_score  : 0.6746 \n",
      "mean_time      : 0.00102 \n"
     ]
    }
   ],
   "source": [
    "# Xây dựng mô hình xác suất Bayes\n",
    "from sklearn.naive_bayes import GaussianNB\n",
    "\n",
    "# Sử dụng mô hình Gauss\n",
    "accuracies_gauss = []\n",
    "precisions_gauss = []\n",
    "recalls_gauss    = []\n",
    "f1_scores_gauss  = []\n",
    "train_times_gauss = []\n",
    "\n",
    "\n",
    "for i in range(K_FOLD):\n",
    "    X_train, X_test = X_train_np[i], X_test_np[i]\n",
    "    Y_train, Y_test = Y_train_np[i], Y_test_np[i]\n",
    "    # Chia dữ liệu thành training và testing\n",
    "\n",
    "\n",
    "    # Khởi tạo mô hình\n",
    "    model_gauss = GaussianNB()\n",
    "\n",
    "    start = time.time()\n",
    "    # Huấn luyện mô hình\n",
    "    model_gauss.fit(X_train, Y_train)\n",
    "    finish = time.time() - start\n",
    "    print('Thời gian huấn luyện :', finish)\n",
    "\n",
    "    # Dự đoán mô hình\n",
    "    y_pred_gauss = model_gauss.predict(X_test)\n",
    "\n",
    "    # Đưa ra độ chính xác của mô hình\n",
    "    accuracy_gauss  = accuracy_score(Y_test, y_pred_gauss)\n",
    "    precision_gauss = precision_score(Y_test, y_pred_gauss)\n",
    "    recall_gauss    = recall_score(Y_test, y_pred_gauss)\n",
    "    f1score_gauss   = f1_score(Y_test, y_pred_gauss)\n",
    "\n",
    "\n",
    "    # In ra kết quả\n",
    "    print(\"FOLD:\", i)\n",
    "    print(\"{:15}: {:>5.4}\".format('accuracy', accuracy_gauss))\n",
    "    print(\"{:15}: {:>5.4}\".format('precision', precision_gauss))\n",
    "    print(\"{:15}: {:>5.4}\".format('recall', recall_gauss))\n",
    "    print(\"{:15}: {:>5.4}\".format('f1score', f1score_gauss))\n",
    "    print(\"{:15}: {:>5.4}\".format('time', finish))\n",
    "\n",
    "    print(\"######################################\")\n",
    "\n",
    "    # Append vào các mảng\n",
    "    accuracies_gauss.append(accuracy_gauss)\n",
    "    precisions_gauss.append(precision_gauss)\n",
    "    recalls_gauss.append(recall_gauss)\n",
    "    f1_scores_gauss.append(f1score_gauss)\n",
    "    train_times_gauss.append(finish)\n",
    "    i+=1\n",
    "\n",
    "\n",
    "# Tính các giá trị trung bình\n",
    "mean_accuracy_gauss = np.mean(accuracies_gauss)\n",
    "std_acc_gauss      = np.std(accuracies_gauss)\n",
    "\n",
    "mean_precision_gauss = np.mean(precisions_gauss)\n",
    "std_pre_gauss       = np.std(precisions_gauss)\n",
    "\n",
    "mean_recall_gauss = np.mean(recalls_gauss)\n",
    "std_rec_gauss       = np.std(recalls_gauss)\n",
    "\n",
    "mean_f1score_gauss = np.mean(f1_scores_gauss)\n",
    "std_f1_gauss       = np.std(f1_scores_gauss)\n",
    "\n",
    "mean_time_gauss = np.mean(train_times_gauss)\n",
    "std_time_gauss  = np.std(train_times_gauss)\n",
    "\n",
    "print(\"{:15}: {:>5.4} \".format('mean_accuracy', mean_accuracy_gauss, std_acc_gauss))\n",
    "print(\"{:15}: {:>5.4} \".format('mean_precision', mean_precision_gauss, std_pre_gauss))\n",
    "print(\"{:15}: {:>5.4} \".format('mean_recall', mean_recall_gauss, std_rec_gauss))\n",
    "print(\"{:15}: {:>5.4} \".format('mean_f1_score', mean_f1score_gauss, std_f1_gauss))\n",
    "print(\"{:15}: {:>5.4} \".format('mean_time', mean_time_gauss, std_time_gauss))"
   ]
  },
  {
   "cell_type": "code",
   "execution_count": 13,
   "metadata": {
    "colab": {
     "base_uri": "https://localhost:8080/",
     "height": 454
    },
    "executionInfo": {
     "elapsed": 761,
     "status": "ok",
     "timestamp": 1735118790337,
     "user": {
      "displayName": "Phan Van Kiet",
      "userId": "02808864336506690139"
     },
     "user_tz": -420
    },
    "id": "jYN2e9-AFFz7",
    "outputId": "cfaf11a1-296a-4c41-dd5f-16ac7c139eca"
   },
   "outputs": [
    {
     "data": {
      "image/png": "[encoded data removed]",
      "text/plain": [
       "<Figure size 640x480 with 1 Axes>"
      ]
     },
     "metadata": {},
     "output_type": "display_data"
    }
   ],
   "source": [
    "# Vẽ biểu đồ hiển thị các chỉ số đánh giá của mô hình Bayes\n",
    "Label = ['accuracy', 'precision', 'recall', 'f1score', 'time']\n",
    "Value = [mean_accuracy_gauss, mean_precision_gauss, mean_recall_gauss, mean_f1score_gauss, mean_time_gauss]\n",
    "color = ['blue', 'red', 'green', 'yellow', 'orange']\n",
    "plt.bar(Label, Value, color=color)\n",
    "plt.title('Biểu đồ đánh giá mô hình Bayes')\n",
    "plt.show()"
   ]
  },
  {
   "cell_type": "code",
   "execution_count": 14,
   "metadata": {
    "colab": {
     "base_uri": "https://localhost:8080/"
    },
    "executionInfo": {
     "elapsed": 554,
     "status": "ok",
     "timestamp": 1735119227556,
     "user": {
      "displayName": "Phan Van Kiet",
      "userId": "02808864336506690139"
     },
     "user_tz": -420
    },
    "id": "Jc3uM3LbGqiy",
    "outputId": "6b64fce1-41ea-4ab0-d0c7-dcb3e9f3be1e"
   },
   "outputs": [
    {
     "name": "stdout",
     "output_type": "stream",
     "text": [
      "Thời gian huấn luyện : 0.031969547271728516\n",
      "FOLD: 0\n",
      "accuracy       :  0.75\n",
      "precision      :  0.75\n",
      "recall         :   1.0\n",
      "f1score        : 0.8571\n",
      "time           : 0.03197\n",
      "######################################\n",
      "Thời gian huấn luyện : 0.0010037422180175781\n",
      "FOLD: 1\n",
      "accuracy       :  0.75\n",
      "precision      :  0.75\n",
      "recall         :   1.0\n",
      "f1score        : 0.8571\n",
      "time           : 0.001004\n",
      "######################################\n",
      "Thời gian huấn luyện : 0.0\n",
      "FOLD: 2\n",
      "accuracy       :   0.5\n",
      "precision      :   0.5\n",
      "recall         :   1.0\n",
      "f1score        : 0.6667\n",
      "time           :   0.0\n",
      "######################################\n",
      "mean_accuracy  : 0.6667 \n",
      "mean_precision : 0.6667 \n",
      "mean_recall    :   1.0 \n",
      "mean_f1_score  : 0.7937 \n",
      "mean_time      : 0.01099 \n"
     ]
    }
   ],
   "source": [
    "# Xây dựng mô hình xác suất SVM\n",
    "from sklearn.naive_bayes import GaussianNB\n",
    "# Sử dụng mô hình SVM\n",
    "accuracies_svm = []\n",
    "precisions_svm = []\n",
    "recalls_svm    = []\n",
    "f1_scores_svm  = []\n",
    "train_times_svm = []\n",
    "\n",
    "\n",
    "for i in range(K_FOLD):\n",
    "  # Chia dữ liệu training và testing\n",
    "    X_train, X_test = X_train_np[i], X_test_np[i]\n",
    "    Y_train, Y_test = Y_train_np[i], Y_test_np[i]\n",
    "\n",
    "\n",
    "\n",
    "    #Khởi tạo mô hình\n",
    "    model_svm = SVC()\n",
    "\n",
    "    start = time.time()\n",
    "    # Huấn luyện mô hình\n",
    "    model_svm.fit(X_train, Y_train)\n",
    "    finish = time.time() - start\n",
    "    print('Thời gian huấn luyện :', finish)\n",
    "\n",
    "    # Dự đoán mô hình\n",
    "    y_pred_svm = model_svm.predict(X_test)\n",
    "\n",
    "    # Đưa ra các độ chính xác của mô hình\n",
    "    accuracy_svm  = accuracy_score(Y_test, y_pred_svm)\n",
    "    precision_svm = precision_score(Y_test, y_pred_svm)\n",
    "    recall_svm    = recall_score(Y_test, y_pred_svm)\n",
    "    f1score_svm   = f1_score(Y_test, y_pred_svm)\n",
    "\n",
    "\n",
    "    # In ra kết quả\n",
    "    print(\"FOLD:\", i)\n",
    "    print(\"{:15}: {:>5.4}\".format('accuracy', accuracy_svm))\n",
    "    print(\"{:15}: {:>5.4}\".format('precision', precision_svm))\n",
    "    print(\"{:15}: {:>5.4}\".format('recall', recall_svm))\n",
    "    print(\"{:15}: {:>5.4}\".format('f1score', f1score_svm))\n",
    "    print(\"{:15}: {:>5.4}\".format('time', finish))\n",
    "\n",
    "    print(\"######################################\")\n",
    "\n",
    "    # Append vào các mảng\n",
    "    accuracies_svm.append(accuracy_svm)\n",
    "    precisions_svm.append(precision_svm)\n",
    "    recalls_svm.append(recall_svm)\n",
    "    f1_scores_svm.append(f1score_svm)\n",
    "    train_times_svm.append(finish)\n",
    "    i+=1\n",
    "\n",
    "\n",
    "# Tính các giá trị trung bình\n",
    "mean_accuracy_svm = np.mean(accuracies_svm)\n",
    "std_acc_svm      = np.std(accuracies_svm)\n",
    "\n",
    "mean_precision_svm = np.mean(precisions_svm)\n",
    "std_pre_svm      = np.std(precisions_svm)\n",
    "\n",
    "mean_recall_svm = np.mean(recalls_svm)\n",
    "std_rec_svm       = np.std(recalls_svm)\n",
    "\n",
    "mean_f1score_svm = np.mean(f1_scores_svm)\n",
    "std_f1_svm       = np.std(f1_scores_gauss)\n",
    "\n",
    "mean_time_svm = np.mean(train_times_svm)\n",
    "std_time_svm  = np.std(train_times_svm)\n",
    "\n",
    "print(\"{:15}: {:>5.4} \".format('mean_accuracy', mean_accuracy_svm, std_acc_svm))\n",
    "print(\"{:15}: {:>5.4} \".format('mean_precision', mean_precision_svm, std_pre_svm))\n",
    "print(\"{:15}: {:>5.4} \".format('mean_recall', mean_recall_svm, std_rec_svm))\n",
    "print(\"{:15}: {:>5.4} \".format('mean_f1_score', mean_f1score_svm, std_f1_svm))\n",
    "print(\"{:15}: {:>5.4} \".format('mean_time', mean_time_svm, std_time_svm))"
   ]
  },
  {
   "cell_type": "code",
   "execution_count": 15,
   "metadata": {
    "colab": {
     "base_uri": "https://localhost:8080/",
     "height": 454
    },
    "executionInfo": {
     "elapsed": 565,
     "status": "ok",
     "timestamp": 1735118919956,
     "user": {
      "displayName": "Phan Van Kiet",
      "userId": "02808864336506690139"
     },
     "user_tz": -420
    },
    "id": "m90YWt-UJHOn",
    "outputId": "0263a678-11dc-4cf7-dd7c-7773fa9946fe"
   },
   "outputs": [
    {
     "data": {
      "image/png": "[encoded data removed]",
      "text/plain": [
       "<Figure size 640x480 with 1 Axes>"
      ]
     },
     "metadata": {},
     "output_type": "display_data"
    }
   ],
   "source": [
    "# Vẽ biểu đồ hiển thị các chỉ số đánh giá của mô hình SVM\n",
    "Label = ['accuracy', 'precision', 'recall', 'f1score', 'time']\n",
    "Value = [mean_accuracy_svm, mean_precision_svm, mean_recall_svm, mean_f1score_svm, mean_time_svm]\n",
    "color = ['blue', 'red', 'green', 'yellow', 'orange']\n",
    "plt.bar(Label, Value, color=color)\n",
    "plt.title('Biểu đồ đánh giá mô hình SVM')\n",
    "plt.show()"
   ]
  },
  {
   "cell_type": "code",
   "execution_count": null,
   "metadata": {},
   "outputs": [],
   "source": []
  }
 ],
 "metadata": {
  "colab": {
   "authorship_tag": "ABX9TyOe4OJQP2O5peEx+zS3JlBF",
   "mount_file_id": "1XEuWozcsmQAK3ImwypbqZglc4aT9xKdY",
   "provenance": []
  },
  "kernelspec": {
   "display_name": "Python 3 (ipykernel)",
   "language": "python",
   "name": "python3"
  },
  "language_info": {
   "codemirror_mode": {
    "name": "ipython",
    "version": 3
   },
   "file_extension": ".py",
   "mimetype": "text/x-python",
   "name": "python",
   "nbconvert_exporter": "python",
   "pygments_lexer": "ipython3",
   "version": "3.12.4"
  }
 },
 "nbformat": 4,
 "nbformat_minor": 4
}
